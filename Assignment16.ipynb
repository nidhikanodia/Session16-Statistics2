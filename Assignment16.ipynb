{
 "cells": [
  {
   "cell_type": "markdown",
   "metadata": {},
   "source": [
    "#Question 1: \n",
    "This problem statement follows Binomial Distribution having following properties:\n",
    "1. Fixed no. of trials represented as n (n = 20)\n",
    "2. Each trial has two possible outcomes, a “success” (the option selected is correct) and a “failure” (the options selected is wrong).\n",
    "3. P(success)=p (and thus: P(failure)=1–p), for all trials.\n",
    "4. The trials are independent, which means that the outcome of one trial does not affect the outcomes of any other trials.\n",
    "\n",
    "The Binomial random variable can take the values from 0, 1, 2, .... 20\n",
    "\n",
    "To calculate the probability associated with each value, we can use:\n",
    "\n",
    "P(x) = (n!/x!*(n-x)!)*p**x*(1-p)**(n-x)\n",
    "\n",
    "for x = 0, 1, 2, ..... n\n",
    "Here, n = 20"
   ]
  },
  {
   "cell_type": "code",
   "execution_count": 11,
   "metadata": {},
   "outputs": [
    {
     "name": "stdout",
     "output_type": "stream",
     "text": [
      "The probability of answering exactly 5 question wrong from 20 MCQ questions is 3.4264958230778435e-06\n"
     ]
    }
   ],
   "source": [
    "#Import the required libraries\n",
    "\n",
    "from scipy.stats import binom\n",
    "\n",
    "#The no. of trials is n = 20 and the probability of ansewring question wrong is p = 3/4 = 0.75\n",
    "n, p = 20, 0.75\n",
    "\n",
    "#The values of x would be from 0 to 20\n",
    "x = scipy.linspace(0,20,21)\n",
    "\n",
    "#The binomial probability distribution function is given by following\n",
    "pmf = binom.pmf(x,n,p)\n",
    "\n",
    "#The probability of answering exactly 5 question wrong isgetting a “D” exactly 5 given by\n",
    "print(\"The probability of answering exactly 5 questions wrong from 20 MCQ questions is\", pmf[5])"
   ]
  },
  {
   "cell_type": "code",
   "execution_count": null,
   "metadata": {},
   "outputs": [],
   "source": [
    "#Question 2: \n",
    "This problem statement follows Binomial Distribution having following properties:\n",
    "1. Fixed no. of trials represented as n (n = 50)\n",
    "2. Each trial has two possible outcomes, a “success” (getting 'D' on rolled dice) and a “failure” (not getting 'D' on rolled dice).\n",
    "3. P(success)=p (and thus: P(failure)=1–p), for all trials.\n",
    "4. The trials are independent, which means that the outcome of one trial does not affect the outcomes of any other trials.\n",
    "\n",
    "The Binomial random variable can take the values from 0, 1, 2, .... 50\n",
    "\n",
    "To calculate the probability associated with each value, we can use:\n",
    "\n",
    "P(x) = (n!/x!*(n-x)!)*p**x*(1-p)**(n-x)\n",
    "\n",
    "for x = 0, 1, 2, ..... n\n",
    "Here, n = 50"
   ]
  },
  {
   "cell_type": "code",
   "execution_count": 14,
   "metadata": {},
   "outputs": [
    {
     "name": "stdout",
     "output_type": "stream",
     "text": [
      "The probability of getting a “D” on rolled dice exactly 5 times is 0.029531204310523224\n"
     ]
    }
   ],
   "source": [
    "#Import the required libraries\n",
    "\n",
    "from scipy.stats import binom\n",
    "\n",
    "#The no. of trials is n = 50 and the probability of getting D on rolled dice is p = 1/5 = 0.20\n",
    "n, p = 50, 0.20\n",
    "\n",
    "#The values of x would be from 0 to 50\n",
    "x = scipy.linspace(0,50,51)\n",
    "\n",
    "#The binomial probability distribution function is given by following\n",
    "pmf = binom.pmf(x,n,p)\n",
    "\n",
    "#The probability of getting a “D” on rolled dice exactly 5 times is given by\n",
    "print(\"The probability of getting a “D” on rolled dice exactly 5 times is\", pmf[5])"
   ]
  },
  {
   "cell_type": "markdown",
   "metadata": {},
   "source": [
    "#Question 3:\n",
    "Let the red ball be denoted by R and black ball be denoted by B\n",
    "Probabilities of all possible outcomes:\n",
    "\n",
    "Probability of 2 red balls (RR): (4/10)(3/9) = 2/15\n",
    "Probability of 1 red ball  (RB or BR): (4/10)(6/9) + (6/10)(4/9) = 4/15\n",
    "Probability of 0 red ball (BB): (6/10)(5/9) = 1/3\n",
    "\n",
    "Probability of 2 black balls (BB): (6/10)(5/9) = 1/3\n",
    "Probability of 1 black ball  (RB or BR): (4/10)(6/9) + (6/10)(4/9) = 4/15\n",
    "Probability of 0 black ball (RR): (4/10)(3/9) = 2/15"
   ]
  }
 ],
 "metadata": {
  "kernelspec": {
   "display_name": "Python 3",
   "language": "python",
   "name": "python3"
  },
  "language_info": {
   "codemirror_mode": {
    "name": "ipython",
    "version": 3
   },
   "file_extension": ".py",
   "mimetype": "text/x-python",
   "name": "python",
   "nbconvert_exporter": "python",
   "pygments_lexer": "ipython3",
   "version": "3.7.2"
  }
 },
 "nbformat": 4,
 "nbformat_minor": 2
}
